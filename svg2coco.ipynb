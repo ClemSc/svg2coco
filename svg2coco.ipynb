{
 "cells": [
  {
   "cell_type": "code",
   "execution_count": 234,
   "metadata": {},
   "outputs": [],
   "source": [
    "from xml.dom import minidom"
   ]
  },
  {
   "cell_type": "code",
   "execution_count": 261,
   "metadata": {},
   "outputs": [],
   "source": [
    "def string2coord(string):\n",
    "    '''take a string such as \"x,y\" and return a list of two floats [x,y]'''\n",
    "    return [float(x) for x in string.split(',')]\n",
    "\n",
    "def d_bezier_to_straight_path(path_d):\n",
    "    '''\n",
    "    Input is the d attribute of an svg path element representing a relative bezier curves.\n",
    "    Output is the list of points of this path (first point is absolute, others relative to previous ones), \n",
    "    without curve parameters.\n",
    "    '''\n",
    "    path_d = path_d.split(' ')\n",
    "    points = list()\n",
    "    points.append(string2coord(path_d[1]))\n",
    "    \n",
    "    for i in range(5, len(path_d), 3):\n",
    "        points.append(string2coord(path_d[i]))      \n",
    "    return points\n",
    "\n",
    "def d_straigh_to_straight_path(path_d):\n",
    "    '''\n",
    "    Input is the d attribute of an svg path element representing a relative straight path.\n",
    "    Output is the list of points of this path (first point is absolute, others relative to previous ones)\n",
    "    '''\n",
    "    path_d = path_d.lstrip('m ').rstrip('z ').split(' ')\n",
    "    points = list()\n",
    "    for pt in path_d:\n",
    "        points.append(string2coord(pt))\n",
    "    return points\n",
    "\n",
    "def relative_path_to_absolute(points):    \n",
    "    x = 0\n",
    "    y = 0\n",
    "    abs_path=list()\n",
    "    for pt in points:\n",
    "        x = pt[0] + x\n",
    "        y = pt[1] + y\n",
    "        abs_path.append([x,y])\n",
    "    return abs_path"
   ]
  },
  {
   "cell_type": "code",
   "execution_count": 262,
   "metadata": {},
   "outputs": [],
   "source": [
    "doc = minidom.parse('./example/test.svg')\n",
    "\n",
    "# Collect svg viewbox\n",
    "viewBox = doc.getElementsByTagName('svg')[0].getAttribute('viewBox')\n",
    "viewBox = [float(n) for n in viewBox.split(' ')]\n",
    "viewBox_W, viewBox_H = viewBox[2] - viewBox[0], viewBox[3] - viewBox[1]\n",
    "\n",
    "# Collect all path\n",
    "allpath = [path for path in doc.getElementsByTagName('path')]"
   ]
  },
  {
   "cell_type": "code",
   "execution_count": 265,
   "metadata": {},
   "outputs": [
    {
     "name": "stdout",
     "output_type": "stream",
     "text": [
      "No command found, assuming straight relative path\n",
      "No command found, assuming straight relative path\n",
      "No command found, assuming straight relative path\n",
      "Found c command, assuming relative Bezier curves\n"
     ]
    }
   ],
   "source": [
    "# Dealing with relative bezier curves paths\n",
    "paths = list()\n",
    "for path in allpath:\n",
    "    d = path.getAttribute('d')\n",
    "\n",
    "    if 'c' in d:\n",
    "        print('Found c command, assuming relative Bezier curves')\n",
    "        points = d_bezier_to_straight_path(d)\n",
    "    \n",
    "    else:\n",
    "        print('No command found, assuming straight relative path')\n",
    "        points = d_straigh_to_straight_path(d)\n",
    "    \n",
    "    paths.append(relative_path_to_absolute(points))\n"
   ]
  }
 ],
 "metadata": {
  "kernelspec": {
   "display_name": "Python 3",
   "language": "python",
   "name": "python3"
  },
  "language_info": {
   "codemirror_mode": {
    "name": "ipython",
    "version": 3
   },
   "file_extension": ".py",
   "mimetype": "text/x-python",
   "name": "python",
   "nbconvert_exporter": "python",
   "pygments_lexer": "ipython3",
   "version": "3.8.3"
  }
 },
 "nbformat": 4,
 "nbformat_minor": 4
}
